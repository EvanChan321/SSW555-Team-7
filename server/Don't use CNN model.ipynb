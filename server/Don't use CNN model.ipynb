{
 "cells": [
  {
   "cell_type": "markdown",
   "id": "88e3d8a4",
   "metadata": {},
   "source": [
    "# EEG DataLoader"
   ]
  },
  {
   "cell_type": "markdown",
   "id": "78e016ab",
   "metadata": {},
   "source": [
    "The dimensions of the training set are as follows: 4,500 samples, 64 channels, and a time length of 795. This corresponds to 5 categories in y_train.\n",
    "\n",
    "The dimensions of the testing set are as follows: 750 samples, 64 channels, and a time length of 795. This corresponds to 5 categories in y_test.\n",
    "\n",
    "You can download it from this Google Drive link: [https://drive.google.com/drive/folders/1ykR-mn4d4KfFeeNrfR6UdtebsNRY8PU2?usp=sharing]. \n",
    "Please download the data and place it in your data_path at \"./data.\""
   ]
  },
  {
   "cell_type": "markdown",
   "id": "71125c00",
   "metadata": {},
   "source": [
    "Installing needed packages"
   ]
  },
  {
   "cell_type": "code",
   "execution_count": 85,
   "id": "b284602d",
   "metadata": {},
   "outputs": [],
   "source": [
    "import numpy as np\n",
    "import torch\n",
    "import torch.nn as nn\n",
    "import torch.optim as optim\n",
    "from torch.utils.data import DataLoader, TensorDataset"
   ]
  },
  {
   "cell_type": "markdown",
   "id": "76cffaf4",
   "metadata": {},
   "source": [
    "This is so that you do not have to repeat ./data/ for every single call to the data"
   ]
  },
  {
   "cell_type": "code",
   "execution_count": 86,
   "id": "fef2ddad",
   "metadata": {},
   "outputs": [],
   "source": [
    "data_path = './data/'"
   ]
  },
  {
   "cell_type": "markdown",
   "id": "cad41269",
   "metadata": {},
   "source": [
    "This loads in the data, normalizes the data then converts them to PyTorch tensors"
   ]
  },
  {
   "cell_type": "code",
   "execution_count": 87,
   "id": "fbb56c77",
   "metadata": {},
   "outputs": [],
   "source": [
    "train_data = np.load(data_path + 'train_data.npy')\n",
    "test_data = np.load(data_path + 'test_data.npy')\n",
    "train_label = np.load(data_path + 'train_label.npy')\n",
    "test_label = np.load(data_path + 'test_label.npy')\n",
    "\n",
    "train_data_mean = np.mean(train_data)\n",
    "train_data_std = np.std(train_data)\n",
    "train_data_normalized = (train_data - train_data_mean) / train_data_std\n",
    "test_data_normalized = (test_data - train_data_mean) / train_data_std\n",
    "\n",
    "#To convert the data into PyTorch tensors\n",
    "x_train_tensor = torch.Tensor(train_data_normalized)\n",
    "y_train_tensor = torch.LongTensor(train_label)\n",
    "x_test_tensor = torch.Tensor(test_data_normalized)\n",
    "y_test_tensor = torch.LongTensor(test_label)"
   ]
  },
  {
   "cell_type": "code",
   "execution_count": 88,
   "id": "f13109bc",
   "metadata": {},
   "outputs": [],
   "source": [
    "device = torch.device(\"cuda\" if torch.cuda.is_available() else \"cpu\") #Setting GPU on your computer"
   ]
  },
  {
   "cell_type": "code",
   "execution_count": 89,
   "id": "38430b1f",
   "metadata": {},
   "outputs": [],
   "source": [
    "train_dataset = TensorDataset(x_train_tensor.to(device), y_train_tensor.to(device)) # input data to Tensor dataloader\n",
    "train_loader = DataLoader(train_dataset, batch_size=64, drop_last=True, shuffle=True) #  Batch size refers to the number of data sample\n",
    "test_dataset = TensorDataset(x_test_tensor.to(device), y_test_tensor.to(device))\n",
    "test_loader = DataLoader(test_dataset, batch_size=64,  drop_last=True,shuffle=False)"
   ]
  },
  {
   "cell_type": "markdown",
   "id": "a304b4d6",
   "metadata": {},
   "source": [
    "# Build simple Deep learning model"
   ]
  },
  {
   "cell_type": "markdown",
   "id": "eb47852d",
   "metadata": {},
   "source": [
    "This creates the model"
   ]
  },
  {
   "cell_type": "code",
   "execution_count": 90,
   "id": "2f9468f8",
   "metadata": {},
   "outputs": [],
   "source": [
    "class EEGCNNClassifier(nn.Module):\n",
    "    def __init__(self, num_classes):\n",
    "        super(EEGCNNClassifier, self).__init__()\n",
    "        self.encoder = nn.Sequential(\n",
    "            nn.Conv1d(64, 32, kernel_size=3, padding=1),\n",
    "            nn.BatchNorm1d(32),\n",
    "            nn.LeakyReLU(negative_slope=0.05),\n",
    "            nn.Dropout(0.05),\n",
    "            nn.MaxPool1d(kernel_size=2),\n",
    "            nn.Conv1d(32, 16, kernel_size=3, padding=1),\n",
    "            nn.BatchNorm1d(16),\n",
    "            nn.LeakyReLU(negative_slope=0.05),\n",
    "            nn.Dropout(0.05),\n",
    "            nn.MaxPool1d(kernel_size=2)\n",
    "        )\n",
    "        self.classifier = nn.Sequential(\n",
    "            nn.Linear(16 * 198, num_classes),\n",
    "            nn.LogSoftmax(dim=1)\n",
    "        )\n",
    "\n",
    "    def forward(self, x):\n",
    "        x = self.encoder(x)\n",
    "        x = x.view(x.size(0), -1)\n",
    "        x = self.classifier(x)\n",
    "        return x"
   ]
  },
  {
   "cell_type": "markdown",
   "id": "a8b1d312",
   "metadata": {},
   "source": [
    "This sets all the parameters needed for the training."
   ]
  },
  {
   "cell_type": "code",
   "execution_count": 91,
   "id": "2369fa9c",
   "metadata": {},
   "outputs": [],
   "source": [
    "num_classes = 5\n",
    "model = EEGCNNClassifier(num_classes).to(device)\n",
    "criterion = nn.NLLLoss()\n",
    "optimizer = optim.Adam(model.parameters(), lr=0.001)\n"
   ]
  },
  {
   "cell_type": "markdown",
   "id": "aece2ca7",
   "metadata": {},
   "source": [
    "This will train the model. Changing the number of epochs and other hyper parameters will change the amount of time that it needs to run and changes the accuracy."
   ]
  },
  {
   "cell_type": "code",
   "execution_count": 92,
   "id": "086a7e33",
   "metadata": {},
   "outputs": [
    {
     "name": "stdout",
     "output_type": "stream",
     "text": [
      "Epoch 1/50, Loss: 1.736389398574829\n",
      "Epoch 2/50, Loss: 1.6980760097503662\n",
      "Epoch 3/50, Loss: 1.687290906906128\n",
      "Epoch 4/50, Loss: 1.6932255029678345\n",
      "Epoch 5/50, Loss: 1.5915905237197876\n",
      "Epoch 6/50, Loss: 1.5352710485458374\n",
      "Epoch 7/50, Loss: 1.4041122198104858\n",
      "Epoch 8/50, Loss: 1.3590201139450073\n",
      "Epoch 9/50, Loss: 1.2975069284439087\n",
      "Epoch 10/50, Loss: 1.2665941715240479\n",
      "Epoch 11/50, Loss: 1.259460210800171\n",
      "Epoch 12/50, Loss: 1.2797644138336182\n",
      "Epoch 13/50, Loss: 1.1810084581375122\n",
      "Epoch 14/50, Loss: 1.0131717920303345\n",
      "Epoch 15/50, Loss: 1.2328523397445679\n",
      "Epoch 16/50, Loss: 1.3824858665466309\n",
      "Epoch 17/50, Loss: 0.9771748781204224\n",
      "Epoch 18/50, Loss: 1.0219978094100952\n",
      "Epoch 19/50, Loss: 1.1935224533081055\n",
      "Epoch 20/50, Loss: 1.1556110382080078\n",
      "Epoch 21/50, Loss: 1.1515525579452515\n",
      "Epoch 22/50, Loss: 1.0399763584136963\n",
      "Epoch 23/50, Loss: 0.8630117177963257\n",
      "Epoch 24/50, Loss: 0.939810037612915\n",
      "Epoch 25/50, Loss: 1.0592700242996216\n",
      "Epoch 26/50, Loss: 1.0252130031585693\n",
      "Epoch 27/50, Loss: 1.1464929580688477\n",
      "Epoch 28/50, Loss: 0.8802099227905273\n",
      "Epoch 29/50, Loss: 0.905373752117157\n",
      "Epoch 30/50, Loss: 0.8846923112869263\n",
      "Epoch 31/50, Loss: 1.0364772081375122\n",
      "Epoch 32/50, Loss: 0.9626004099845886\n",
      "Epoch 33/50, Loss: 0.9024674892425537\n",
      "Epoch 34/50, Loss: 0.6789193749427795\n",
      "Epoch 35/50, Loss: 0.7483991980552673\n",
      "Epoch 36/50, Loss: 0.7138665914535522\n",
      "Epoch 37/50, Loss: 0.8801032900810242\n",
      "Epoch 38/50, Loss: 0.9519830346107483\n",
      "Epoch 39/50, Loss: 0.8785338401794434\n",
      "Epoch 40/50, Loss: 0.6952609419822693\n",
      "Epoch 41/50, Loss: 0.7852895855903625\n",
      "Epoch 42/50, Loss: 0.8792431354522705\n",
      "Epoch 43/50, Loss: 0.7505522966384888\n",
      "Epoch 44/50, Loss: 0.7817004323005676\n",
      "Epoch 45/50, Loss: 0.935696542263031\n",
      "Epoch 46/50, Loss: 0.7102837562561035\n",
      "Epoch 47/50, Loss: 0.6724143624305725\n",
      "Epoch 48/50, Loss: 0.7293590903282166\n",
      "Epoch 49/50, Loss: 0.6892584562301636\n",
      "Epoch 50/50, Loss: 0.6738947629928589\n"
     ]
    }
   ],
   "source": [
    "num_epochs = 50\n",
    "scheduler = torch.optim.lr_scheduler.StepLR(optimizer, step_size=10, gamma=0.1)\n",
    "\n",
    "for epoch in range(num_epochs):\n",
    "    model.train()\n",
    "    for data, labels in train_loader:\n",
    "        data = data.view(-1, 64, 795)\n",
    "        optimizer.zero_grad()\n",
    "        outputs = model(data)\n",
    "        loss = criterion(outputs, labels)\n",
    "        loss.backward()\n",
    "        optimizer.step()\n",
    "\n",
    "    print(f'Epoch {epoch + 1}/{num_epochs}, Loss: {loss.item()}')"
   ]
  },
  {
   "cell_type": "markdown",
   "id": "f01c96c8",
   "metadata": {},
   "source": [
    "Evaluates the model and gives a testing accuracy"
   ]
  },
  {
   "cell_type": "code",
   "execution_count": 93,
   "id": "7969f355",
   "metadata": {},
   "outputs": [
    {
     "name": "stdout",
     "output_type": "stream",
     "text": [
      "Test Accuracy: 39.63%\n"
     ]
    }
   ],
   "source": [
    "model.eval() # Evaluate your model\n",
    "correct = 0\n",
    "total = 0\n",
    "\n",
    "with torch.no_grad():\n",
    "    for data, labels in test_loader:\n",
    "        outputs = model(data)\n",
    "        _, predicted = torch.max(outputs.data, 1)\n",
    "        total += labels.size(0)\n",
    "        correct += (predicted == labels).sum().item()\n",
    "\n",
    "accuracy = correct / total\n",
    "print(f'Test Accuracy: {accuracy * 100:.2f}%')"
   ]
  },
  {
   "cell_type": "code",
   "execution_count": null,
   "id": "d26740bb-a28e-42a4-811d-c87a9c589c06",
   "metadata": {},
   "outputs": [],
   "source": []
  }
 ],
 "metadata": {
  "kernelspec": {
   "display_name": "Python 3 (ipykernel)",
   "language": "python",
   "name": "python3"
  },
  "language_info": {
   "codemirror_mode": {
    "name": "ipython",
    "version": 3
   },
   "file_extension": ".py",
   "mimetype": "text/x-python",
   "name": "python",
   "nbconvert_exporter": "python",
   "pygments_lexer": "ipython3",
   "version": "3.12.1"
  }
 },
 "nbformat": 4,
 "nbformat_minor": 5
}
