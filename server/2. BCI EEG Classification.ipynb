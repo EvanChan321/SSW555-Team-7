{
 "cells": [
  {
   "cell_type": "markdown",
   "id": "88e3d8a4",
   "metadata": {},
   "source": [
    "# EEG DataLoader"
   ]
  },
  {
   "cell_type": "markdown",
   "id": "78e016ab",
   "metadata": {},
   "source": [
    "The dimensions of the training set are as follows: 4,500 samples, 64 channels, and a time length of 795. This corresponds to 5 categories in y_train.\n",
    "\n",
    "The dimensions of the testing set are as follows: 750 samples, 64 channels, and a time length of 795. This corresponds to 5 categories in y_test.\n",
    "\n",
    "You can download it from this Google Drive link: [https://drive.google.com/drive/folders/1ykR-mn4d4KfFeeNrfR6UdtebsNRY8PU2?usp=sharing]. \n",
    "Please download the data and place it in your data_path at \"./data.\""
   ]
  },
  {
   "cell_type": "code",
   "execution_count": 2,
   "id": "b284602d",
   "metadata": {},
   "outputs": [],
   "source": [
    "import numpy as np\n",
    "import torch\n",
    "import torch.nn as nn\n",
    "import torch.optim as optim\n",
    "from torch.utils.data import DataLoader, TensorDataset"
   ]
  },
  {
   "cell_type": "code",
   "execution_count": 3,
   "id": "fef2ddad",
   "metadata": {},
   "outputs": [],
   "source": [
    "data_path = './data/'"
   ]
  },
  {
   "cell_type": "code",
   "execution_count": 4,
   "id": "fbb56c77",
   "metadata": {},
   "outputs": [],
   "source": [
    "train_data = np.load(data_path + 'train_data.npy')\n",
    "test_data = np.load(data_path + 'test_data.npy')\n",
    "train_label = np.load(data_path + 'train_label.npy')\n",
    "test_label = np.load(data_path + 'test_label.npy')\n",
    "\n",
    "train_data_mean = np.mean(train_data)\n",
    "train_data_std = np.std(train_data)\n",
    "train_data_normalized = (train_data - train_data_mean) / train_data_std\n",
    "test_data_normalized = (test_data - train_data_mean) / train_data_std\n",
    "\n",
    "#To convert the data into PyTorch tensors\n",
    "x_train_tensor = torch.Tensor(train_data_normalized)\n",
    "y_train_tensor = torch.LongTensor(train_label)\n",
    "x_test_tensor = torch.Tensor(test_data_normalized)\n",
    "y_test_tensor = torch.LongTensor(test_label)"
   ]
  },
  {
   "cell_type": "code",
   "execution_count": 5,
   "id": "f13109bc",
   "metadata": {},
   "outputs": [],
   "source": [
    "device = torch.device(\"cuda\" if torch.cuda.is_available() else \"cpu\") #Setting GPU on your computer"
   ]
  },
  {
   "cell_type": "code",
   "execution_count": 6,
   "id": "38430b1f",
   "metadata": {},
   "outputs": [],
   "source": [
    "train_dataset = TensorDataset(x_train_tensor.to(device), y_train_tensor.to(device)) # input data to Tensor dataloader\n",
    "train_loader = DataLoader(train_dataset, batch_size=64, drop_last=True, shuffle=True) #  Batch size refers to the number of data sample\n",
    "test_dataset = TensorDataset(x_test_tensor.to(device), y_test_tensor.to(device))\n",
    "test_loader = DataLoader(test_dataset, batch_size=64,  drop_last=True,shuffle=False)"
   ]
  },
  {
   "cell_type": "markdown",
   "id": "a304b4d6",
   "metadata": {},
   "source": [
    "# Build simple Deep learning model"
   ]
  },
  {
   "cell_type": "code",
   "execution_count": 7,
   "id": "2f9468f8",
   "metadata": {},
   "outputs": [],
   "source": [
    "class EEGAutoencoderClassifier(nn.Module):\n",
    "    def __init__(self, num_classes):\n",
    "        super(EEGAutoencoderClassifier, self).__init__()\n",
    "        self.encoder = nn.Sequential(\n",
    "            nn.Linear(64 * 795, 384), # Input dimention is 64 channel * 795 time point, and use 256 units for first NN layer\n",
    "            nn.BatchNorm1d(384),\n",
    "            nn.LeakyReLU(negative_slope=0.05), # Use LeakyReLu function for NN training \n",
    "            nn.Dropout(0.05),\n",
    "            nn.Linear(384, 256), # 256 NN units to 192 units\n",
    "            nn.BatchNorm1d(256),\n",
    "            nn.LeakyReLU(negative_slope=0.05),\n",
    "            nn.Dropout(0.05),\n",
    "            nn.Linear(256, 192),#  192 NN units to 128 units\n",
    "            nn.LeakyReLU(negative_slope=0.05)\n",
    "        )\n",
    "        self.classifier = nn.Sequential(\n",
    "            nn.Linear(192, num_classes), # num_classes is 5 (hello,” “help me,” “stop,” “thank you,” and “yes”)\n",
    "            nn.LogSoftmax(dim=1)  # Use LogSoftmax for multi-class classification\n",
    "        )\n",
    "\n",
    "    def forward(self, x):\n",
    "        x = x.view(x.size(0), -1)\n",
    "        x = self.encoder(x)\n",
    "        \n",
    "        # import pdb;pdb.set_trace()\n",
    "        x = self.classifier(x)\n",
    "        return x"
   ]
  },
  {
   "cell_type": "code",
   "execution_count": 8,
   "id": "2369fa9c",
   "metadata": {},
   "outputs": [],
   "source": [
    "num_classes = 5 # setting final output class\n",
    "model = EEGAutoencoderClassifier(num_classes).to(device) \n",
    "criterion = nn.NLLLoss() # Use NLLLoss function to optimize\n",
    "optimizer = optim.Adam(model.parameters(), lr=0.001) # Setting parameters learning rate = 0.001"
   ]
  },
  {
   "cell_type": "code",
   "execution_count": 9,
   "id": "086a7e33",
   "metadata": {},
   "outputs": [
    {
     "name": "stdout",
     "output_type": "stream",
     "text": [
      "Epoch 1/50, Loss: 1.5873355865478516\n",
      "Epoch 2/50, Loss: 1.623718023300171\n",
      "Epoch 3/50, Loss: 1.4707649946212769\n",
      "Epoch 4/50, Loss: 1.4953361749649048\n",
      "Epoch 5/50, Loss: 1.4541633129119873\n",
      "Epoch 6/50, Loss: 1.2893218994140625\n",
      "Epoch 7/50, Loss: 1.1691949367523193\n",
      "Epoch 8/50, Loss: 0.9879312515258789\n",
      "Epoch 9/50, Loss: 0.9367163181304932\n",
      "Epoch 10/50, Loss: 0.6772328615188599\n",
      "Epoch 11/50, Loss: 0.6577216386795044\n",
      "Epoch 12/50, Loss: 0.543206512928009\n",
      "Epoch 13/50, Loss: 0.5719481706619263\n",
      "Epoch 14/50, Loss: 0.62514328956604\n",
      "Epoch 15/50, Loss: 0.35281768441200256\n",
      "Epoch 16/50, Loss: 0.3555510640144348\n",
      "Epoch 17/50, Loss: 0.5981408953666687\n",
      "Epoch 18/50, Loss: 0.29423046112060547\n",
      "Epoch 19/50, Loss: 0.23678679764270782\n",
      "Epoch 20/50, Loss: 0.21188989281654358\n",
      "Epoch 21/50, Loss: 0.23328840732574463\n",
      "Epoch 22/50, Loss: 0.2142122983932495\n",
      "Epoch 23/50, Loss: 0.23179292678833008\n",
      "Epoch 24/50, Loss: 0.1443886011838913\n",
      "Epoch 25/50, Loss: 0.11856213957071304\n",
      "Epoch 26/50, Loss: 0.3423161804676056\n",
      "Epoch 27/50, Loss: 0.3268108069896698\n",
      "Epoch 28/50, Loss: 0.18150512874126434\n",
      "Epoch 29/50, Loss: 0.1941012144088745\n",
      "Epoch 30/50, Loss: 0.2084531933069229\n",
      "Epoch 31/50, Loss: 0.16484740376472473\n",
      "Epoch 32/50, Loss: 0.15561534464359283\n",
      "Epoch 33/50, Loss: 0.18816983699798584\n",
      "Epoch 34/50, Loss: 0.058343738317489624\n",
      "Epoch 35/50, Loss: 0.13196416199207306\n",
      "Epoch 36/50, Loss: 0.24072696268558502\n",
      "Epoch 37/50, Loss: 0.13364408910274506\n",
      "Epoch 38/50, Loss: 0.07091125100851059\n",
      "Epoch 39/50, Loss: 0.13165055215358734\n",
      "Epoch 40/50, Loss: 0.10384805500507355\n",
      "Epoch 41/50, Loss: 0.16348381340503693\n",
      "Epoch 42/50, Loss: 0.11708108335733414\n",
      "Epoch 43/50, Loss: 0.06166550889611244\n",
      "Epoch 44/50, Loss: 0.12178114801645279\n",
      "Epoch 45/50, Loss: 0.015524612739682198\n",
      "Epoch 46/50, Loss: 0.20971830189228058\n",
      "Epoch 47/50, Loss: 0.1782238781452179\n",
      "Epoch 48/50, Loss: 0.11821854114532471\n",
      "Epoch 49/50, Loss: 0.04091445356607437\n",
      "Epoch 50/50, Loss: 0.12294026464223862\n"
     ]
    }
   ],
   "source": [
    "num_epochs = 50 # setting training epochs (Number of training iterations)\n",
    "scheduler = torch.optim.lr_scheduler.StepLR(optimizer, step_size=10, gamma=0.1)\n",
    "\n",
    "\n",
    "for epoch in range(num_epochs):\n",
    "    model.train()\n",
    "    for data, labels in train_loader: \n",
    "        optimizer.zero_grad()\n",
    "        outputs = model(data)\n",
    "        loss = criterion(outputs, labels)\n",
    "        loss.backward()\n",
    "        optimizer.step()\n",
    "\n",
    "    print(f'Epoch {epoch + 1}/{num_epochs}, Loss: {loss.item()}')"
   ]
  },
  {
   "cell_type": "code",
   "execution_count": 12,
   "id": "7969f355",
   "metadata": {},
   "outputs": [
    {
     "name": "stdout",
     "output_type": "stream",
     "text": [
      "Test Accuracy: 50.28%\n"
     ]
    }
   ],
   "source": [
    "model.eval() # Evaluate your model\n",
    "correct = 0\n",
    "total = 0\n",
    "\n",
    "with torch.no_grad():\n",
    "    for data, labels in test_loader:\n",
    "        outputs = model(data)\n",
    "        _, predicted = torch.max(outputs.data, 1)\n",
    "        total += labels.size(0)\n",
    "        correct += (predicted == labels).sum().item()\n",
    "\n",
    "accuracy = correct / total\n",
    "print(f'Test Accuracy: {accuracy * 100:.2f}%')"
   ]
  },
  {
   "cell_type": "code",
   "execution_count": null,
   "id": "d26740bb-a28e-42a4-811d-c87a9c589c06",
   "metadata": {},
   "outputs": [],
   "source": []
  }
 ],
 "metadata": {
  "kernelspec": {
   "display_name": "Python 3 (ipykernel)",
   "language": "python",
   "name": "python3"
  },
  "language_info": {
   "codemirror_mode": {
    "name": "ipython",
    "version": 3
   },
   "file_extension": ".py",
   "mimetype": "text/x-python",
   "name": "python",
   "nbconvert_exporter": "python",
   "pygments_lexer": "ipython3",
   "version": "3.12.1"
  }
 },
 "nbformat": 4,
 "nbformat_minor": 5
}
