{
 "cells": [
  {
   "cell_type": "markdown",
   "id": "88e3d8a4",
   "metadata": {},
   "source": [
    "# EEG DataLoader"
   ]
  },
  {
   "cell_type": "markdown",
   "id": "78e016ab",
   "metadata": {},
   "source": [
    "The dimensions of the training set are as follows: 4,500 samples, 64 channels, and a time length of 795. This corresponds to 5 categories in y_train.\n",
    "\n",
    "The dimensions of the testing set are as follows: 750 samples, 64 channels, and a time length of 795. This corresponds to 5 categories in y_test.\n",
    "\n",
    "You can download it from this Google Drive link: [https://drive.google.com/drive/folders/1ykR-mn4d4KfFeeNrfR6UdtebsNRY8PU2?usp=sharing]. \n",
    "Please download the data and place it in your data_path at \"./data.\""
   ]
  },
  {
   "cell_type": "markdown",
   "id": "71125c00",
   "metadata": {},
   "source": [
    "Installing needed packages"
   ]
  },
  {
   "cell_type": "code",
   "execution_count": 1,
   "id": "b284602d",
   "metadata": {},
   "outputs": [],
   "source": [
    "import numpy as np\n",
    "import torch\n",
    "import torch.nn as nn\n",
    "import torch.optim as optim\n",
    "from torch.utils.data import DataLoader, TensorDataset"
   ]
  },
  {
   "cell_type": "markdown",
   "id": "76cffaf4",
   "metadata": {},
   "source": [
    "This is so that you do not have to repeat ./data/ for every single call to the data"
   ]
  },
  {
   "cell_type": "code",
   "execution_count": 2,
   "id": "fef2ddad",
   "metadata": {},
   "outputs": [],
   "source": [
    "data_path = './data/'"
   ]
  },
  {
   "cell_type": "markdown",
   "id": "cad41269",
   "metadata": {},
   "source": [
    "This loads in the data, normalizes the data then converts them to PyTorch tensors"
   ]
  },
  {
   "cell_type": "code",
   "execution_count": 3,
   "id": "fbb56c77",
   "metadata": {},
   "outputs": [],
   "source": [
    "train_data = np.load(data_path + 'train_data.npy')\n",
    "test_data = np.load(data_path + 'test_data.npy')\n",
    "train_label = np.load(data_path + 'train_label.npy')\n",
    "test_label = np.load(data_path + 'test_label.npy')\n",
    "\n",
    "train_data_mean = np.mean(train_data)\n",
    "train_data_std = np.std(train_data)\n",
    "train_data_normalized = (train_data - train_data_mean) / train_data_std\n",
    "test_data_normalized = (test_data - train_data_mean) / train_data_std\n",
    "\n",
    "#To convert the data into PyTorch tensors\n",
    "x_train_tensor = torch.Tensor(train_data_normalized)\n",
    "y_train_tensor = torch.LongTensor(train_label)\n",
    "x_test_tensor = torch.Tensor(test_data_normalized)\n",
    "y_test_tensor = torch.LongTensor(test_label)"
   ]
  },
  {
   "cell_type": "code",
   "execution_count": 4,
   "id": "f13109bc",
   "metadata": {},
   "outputs": [],
   "source": [
    "device = torch.device(\"cuda\" if torch.cuda.is_available() else \"cpu\") #Setting GPU on your computer"
   ]
  },
  {
   "cell_type": "code",
   "execution_count": 5,
   "id": "38430b1f",
   "metadata": {},
   "outputs": [],
   "source": [
    "train_dataset = TensorDataset(x_train_tensor.to(device), y_train_tensor.to(device)) # input data to Tensor dataloader\n",
    "train_loader = DataLoader(train_dataset, batch_size=64, drop_last=True, shuffle=True) #  Batch size refers to the number of data sample\n",
    "test_dataset = TensorDataset(x_test_tensor.to(device), y_test_tensor.to(device))\n",
    "test_loader = DataLoader(test_dataset, batch_size=64,  drop_last=True,shuffle=False)"
   ]
  },
  {
   "cell_type": "markdown",
   "id": "a304b4d6",
   "metadata": {},
   "source": [
    "# Build simple Deep learning model"
   ]
  },
  {
   "cell_type": "markdown",
   "id": "eb47852d",
   "metadata": {},
   "source": [
    "This creates the model"
   ]
  },
  {
   "cell_type": "code",
   "execution_count": 6,
   "id": "2f9468f8",
   "metadata": {},
   "outputs": [],
   "source": [
    "class EEGAutoencoderClassifier(nn.Module):\n",
    "    def __init__(self, num_classes):\n",
    "        super(EEGAutoencoderClassifier, self).__init__()\n",
    "        self.encoder = nn.Sequential(\n",
    "            nn.Linear(64 * 795, 384), # Input dimention is 64 channel * 795 time point, and use 256 units for first NN layer\n",
    "            nn.BatchNorm1d(384),\n",
    "            nn.LeakyReLU(negative_slope=0.05), # Use LeakyReLu function for NN training \n",
    "            nn.Dropout(0.05),\n",
    "            nn.Linear(384, 256), # 256 NN units to 192 units\n",
    "            nn.BatchNorm1d(256),\n",
    "            nn.LeakyReLU(negative_slope=0.05),\n",
    "            nn.Dropout(0.05),\n",
    "            nn.Linear(256, 192),#  192 NN units to 128 units\n",
    "            nn.LeakyReLU(negative_slope=0.05)\n",
    "        )\n",
    "        self.classifier = nn.Sequential(\n",
    "            nn.Linear(192, num_classes), # num_classes is 5 (hello,” “help me,” “stop,” “thank you,” and “yes”)\n",
    "            nn.LogSoftmax(dim=1)  # Use LogSoftmax for multi-class classification\n",
    "        )\n",
    "\n",
    "    def forward(self, x):\n",
    "        x = x.view(x.size(0), -1)\n",
    "        x = self.encoder(x)\n",
    "        \n",
    "        # import pdb;pdb.set_trace()\n",
    "        x = self.classifier(x)\n",
    "        return x"
   ]
  },
  {
   "cell_type": "markdown",
   "id": "a8b1d312",
   "metadata": {},
   "source": [
    "This sets all the parameters needed for the training."
   ]
  },
  {
   "cell_type": "code",
   "execution_count": 7,
   "id": "2369fa9c",
   "metadata": {},
   "outputs": [],
   "source": [
    "num_classes = 5 # setting final output class\n",
    "model = EEGAutoencoderClassifier(num_classes).to(device) \n",
    "criterion = nn.NLLLoss() # Use NLLLoss function to optimize\n",
    "optimizer = optim.Adam(model.parameters(), lr=0.001) # Setting parameters learning rate = 0.001"
   ]
  },
  {
   "cell_type": "markdown",
   "id": "aece2ca7",
   "metadata": {},
   "source": [
    "This will train the model. Changing the number of epochs and other hyper parameters will change the amount of time that it needs to run and changes the accuracy."
   ]
  },
  {
   "cell_type": "code",
   "execution_count": 8,
   "id": "086a7e33",
   "metadata": {},
   "outputs": [
    {
     "name": "stdout",
     "output_type": "stream",
     "text": [
      "Epoch 1/50, Loss: 1.6468422412872314\n",
      "Epoch 2/50, Loss: 1.5850285291671753\n",
      "Epoch 3/50, Loss: 1.5205365419387817\n",
      "Epoch 4/50, Loss: 1.532263994216919\n",
      "Epoch 5/50, Loss: 1.3678032159805298\n",
      "Epoch 6/50, Loss: 1.2575147151947021\n",
      "Epoch 7/50, Loss: 1.0292750597000122\n",
      "Epoch 8/50, Loss: 1.2314276695251465\n",
      "Epoch 9/50, Loss: 0.9233094453811646\n",
      "Epoch 10/50, Loss: 1.1760468482971191\n",
      "Epoch 11/50, Loss: 0.6848042011260986\n",
      "Epoch 12/50, Loss: 0.5860562324523926\n",
      "Epoch 13/50, Loss: 0.7431285381317139\n",
      "Epoch 14/50, Loss: 0.48889076709747314\n",
      "Epoch 15/50, Loss: 0.6034378409385681\n",
      "Epoch 16/50, Loss: 0.3780413269996643\n",
      "Epoch 17/50, Loss: 0.2878186106681824\n",
      "Epoch 18/50, Loss: 0.2521151602268219\n",
      "Epoch 19/50, Loss: 0.4437309205532074\n",
      "Epoch 20/50, Loss: 0.3797251880168915\n",
      "Epoch 21/50, Loss: 0.25286126136779785\n",
      "Epoch 22/50, Loss: 0.16965611279010773\n",
      "Epoch 23/50, Loss: 0.24978816509246826\n",
      "Epoch 24/50, Loss: 0.24163788557052612\n",
      "Epoch 25/50, Loss: 0.12577393651008606\n",
      "Epoch 26/50, Loss: 0.22460056841373444\n",
      "Epoch 27/50, Loss: 0.11634722352027893\n",
      "Epoch 28/50, Loss: 0.1794835776090622\n",
      "Epoch 29/50, Loss: 0.18181510269641876\n",
      "Epoch 30/50, Loss: 0.16702252626419067\n",
      "Epoch 31/50, Loss: 0.13210493326187134\n",
      "Epoch 32/50, Loss: 0.31808412075042725\n",
      "Epoch 33/50, Loss: 0.1498454362154007\n",
      "Epoch 34/50, Loss: 0.21377746760845184\n",
      "Epoch 35/50, Loss: 0.1306915581226349\n",
      "Epoch 36/50, Loss: 0.17638228833675385\n",
      "Epoch 37/50, Loss: 0.09283515065908432\n",
      "Epoch 38/50, Loss: 0.3512839078903198\n",
      "Epoch 39/50, Loss: 0.24233826994895935\n",
      "Epoch 40/50, Loss: 0.044015586376190186\n",
      "Epoch 41/50, Loss: 0.15029273927211761\n",
      "Epoch 42/50, Loss: 0.16416271030902863\n",
      "Epoch 43/50, Loss: 0.202270969748497\n",
      "Epoch 44/50, Loss: 0.06738149374723434\n",
      "Epoch 45/50, Loss: 0.21164670586585999\n",
      "Epoch 46/50, Loss: 0.09399472922086716\n",
      "Epoch 47/50, Loss: 0.05289633199572563\n",
      "Epoch 48/50, Loss: 0.045815058052539825\n",
      "Epoch 49/50, Loss: 0.05615057051181793\n",
      "Epoch 50/50, Loss: 0.12176264077425003\n"
     ]
    }
   ],
   "source": [
    "num_epochs = 50 # setting training epochs (Number of training iterations)\n",
    "scheduler = torch.optim.lr_scheduler.StepLR(optimizer, step_size=10, gamma=0.1)\n",
    "\n",
    "\n",
    "for epoch in range(num_epochs):\n",
    "    model.train()\n",
    "    for data, labels in train_loader: \n",
    "        optimizer.zero_grad()\n",
    "        outputs = model(data)\n",
    "        loss = criterion(outputs, labels)\n",
    "        loss.backward()\n",
    "        optimizer.step()\n",
    "\n",
    "    print(f'Epoch {epoch + 1}/{num_epochs}, Loss: {loss.item()}')"
   ]
  },
  {
   "cell_type": "markdown",
   "id": "f01c96c8",
   "metadata": {},
   "source": [
    "Evaluates the model and gives a testing accuracy"
   ]
  },
  {
   "cell_type": "code",
   "execution_count": 9,
   "id": "7969f355",
   "metadata": {},
   "outputs": [
    {
     "name": "stdout",
     "output_type": "stream",
     "text": [
      "Test Accuracy: 51.70%\n"
     ]
    }
   ],
   "source": [
    "model.eval() # Evaluate your model\n",
    "correct = 0\n",
    "total = 0\n",
    "\n",
    "with torch.no_grad():\n",
    "    for data, labels in test_loader:\n",
    "        outputs = model(data)\n",
    "        _, predicted = torch.max(outputs.data, 1)\n",
    "        total += labels.size(0)\n",
    "        correct += (predicted == labels).sum().item()\n",
    "\n",
    "accuracy = correct / total\n",
    "print(f'Test Accuracy: {accuracy * 100:.2f}%')"
   ]
  },
  {
   "cell_type": "code",
   "execution_count": null,
   "id": "d26740bb-a28e-42a4-811d-c87a9c589c06",
   "metadata": {},
   "outputs": [],
   "source": []
  }
 ],
 "metadata": {
  "kernelspec": {
   "display_name": "Python 3 (ipykernel)",
   "language": "python",
   "name": "python3"
  },
  "language_info": {
   "codemirror_mode": {
    "name": "ipython",
    "version": 3
   },
   "file_extension": ".py",
   "mimetype": "text/x-python",
   "name": "python",
   "nbconvert_exporter": "python",
   "pygments_lexer": "ipython3",
   "version": "3.12.1"
  }
 },
 "nbformat": 4,
 "nbformat_minor": 5
}
